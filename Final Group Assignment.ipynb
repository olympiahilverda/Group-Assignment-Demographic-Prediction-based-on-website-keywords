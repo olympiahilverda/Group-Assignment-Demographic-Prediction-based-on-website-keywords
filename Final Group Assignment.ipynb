{
 "cells": [
  {
   "cell_type": "markdown",
   "metadata": {},
   "source": [
    "# Group Assignment: Demographic Prediction"
   ]
  },
  {
   "cell_type": "markdown",
   "metadata": {},
   "source": [
    "## Import Useful Libraries"
   ]
  },
  {
   "cell_type": "code",
   "execution_count": 1,
   "metadata": {},
   "outputs": [
    {
     "name": "stderr",
     "output_type": "stream",
     "text": [
      "[nltk_data] Downloading package punkt to\n",
      "[nltk_data]     /Users/olympiahilverda/nltk_data...\n",
      "[nltk_data]   Package punkt is already up-to-date!\n",
      "[nltk_data] Downloading package stopwords to\n",
      "[nltk_data]     /Users/olympiahilverda/nltk_data...\n",
      "[nltk_data]   Package stopwords is already up-to-date!\n"
     ]
    }
   ],
   "source": [
    "import pandas as pd\n",
    "import numpy as np\n",
    "import matplotlib.pyplot as plt\n",
    "import seaborn as sns \n",
    "import re # text manipulation\n",
    "\n",
    "# function to split the data for cross-validation\n",
    "from sklearn.model_selection import train_test_split\n",
    "\n",
    "#### CLEANING LIB\n",
    "from nltk.tokenize import word_tokenize\n",
    "from nltk.tokenize.toktok import ToktokTokenizer\n",
    "import nltk\n",
    "nltk.download('punkt')\n",
    "from nltk import word_tokenize,sent_tokenize\n",
    "from nltk.stem import PorterStemmer \n",
    "#now remove stopwords\n",
    "from nltk.corpus import stopwords\n",
    "nltk.download('stopwords')\n",
    "# function for transforming documents into counts\n",
    "from sklearn.feature_extraction.text import CountVectorizer\n",
    "# function for encoding categories\n",
    "from sklearn.preprocessing import LabelEncoder\n",
    "\n",
    "# models\n",
    "from sklearn.naive_bayes import MultinomialNB\n",
    "from sklearn.tree import DecisionTreeClassifier\n",
    "from sklearn.ensemble import RandomForestClassifier\n",
    "from sklearn.ensemble import GradientBoostingClassifier\n",
    "from sklearn.neural_network import MLPClassifier"
   ]
  },
  {
   "cell_type": "markdown",
   "metadata": {},
   "source": [
    "## Import Data"
   ]
  },
  {
   "cell_type": "code",
   "execution_count": 2,
   "metadata": {},
   "outputs": [
    {
     "data": {
      "text/html": [
       "<div>\n",
       "<style scoped>\n",
       "    .dataframe tbody tr th:only-of-type {\n",
       "        vertical-align: middle;\n",
       "    }\n",
       "\n",
       "    .dataframe tbody tr th {\n",
       "        vertical-align: top;\n",
       "    }\n",
       "\n",
       "    .dataframe thead th {\n",
       "        text-align: right;\n",
       "    }\n",
       "</style>\n",
       "<table border=\"1\" class=\"dataframe\">\n",
       "  <thead>\n",
       "    <tr style=\"text-align: right;\">\n",
       "      <th></th>\n",
       "      <th>ID</th>\n",
       "      <th>keywords</th>\n",
       "      <th>age</th>\n",
       "      <th>sex</th>\n",
       "    </tr>\n",
       "  </thead>\n",
       "  <tbody>\n",
       "    <tr>\n",
       "      <th>0</th>\n",
       "      <td>1</td>\n",
       "      <td>fibre:16;quoi:1;dangers:1;combien:1;hightech:1...</td>\n",
       "      <td>62</td>\n",
       "      <td>F</td>\n",
       "    </tr>\n",
       "    <tr>\n",
       "      <th>1</th>\n",
       "      <td>2</td>\n",
       "      <td>restaurant:1;marrakech.shtml:1</td>\n",
       "      <td>35</td>\n",
       "      <td>M</td>\n",
       "    </tr>\n",
       "    <tr>\n",
       "      <th>2</th>\n",
       "      <td>3</td>\n",
       "      <td>payer:1;faq:1;taxe:1;habitation:1;macron:1;qui...</td>\n",
       "      <td>45</td>\n",
       "      <td>F</td>\n",
       "    </tr>\n",
       "    <tr>\n",
       "      <th>3</th>\n",
       "      <td>4</td>\n",
       "      <td>rigaud:3;laurent:3;photo:11;profile:8;photopro...</td>\n",
       "      <td>46</td>\n",
       "      <td>F</td>\n",
       "    </tr>\n",
       "    <tr>\n",
       "      <th>4</th>\n",
       "      <td>5</td>\n",
       "      <td>societe:1;disparition:1;proche:1;m%c3%a9lanie....</td>\n",
       "      <td>42</td>\n",
       "      <td>F</td>\n",
       "    </tr>\n",
       "  </tbody>\n",
       "</table>\n",
       "</div>"
      ],
      "text/plain": [
       "   ID                                           keywords  age sex\n",
       "0   1  fibre:16;quoi:1;dangers:1;combien:1;hightech:1...   62   F\n",
       "1   2                     restaurant:1;marrakech.shtml:1   35   M\n",
       "2   3  payer:1;faq:1;taxe:1;habitation:1;macron:1;qui...   45   F\n",
       "3   4  rigaud:3;laurent:3;photo:11;profile:8;photopro...   46   F\n",
       "4   5  societe:1;disparition:1;proche:1;m%c3%a9lanie....   42   F"
      ]
     },
     "execution_count": 2,
     "metadata": {},
     "output_type": "execute_result"
    }
   ],
   "source": [
    "train=pd.read_csv('train.csv')\n",
    "train.head()"
   ]
  },
  {
   "cell_type": "code",
   "execution_count": 3,
   "metadata": {},
   "outputs": [
    {
     "name": "stdout",
     "output_type": "stream",
     "text": [
      "Shape of training data (num_rows, num_columns): (7265055, 4)\n"
     ]
    },
    {
     "data": {
      "text/html": [
       "<div>\n",
       "<style scoped>\n",
       "    .dataframe tbody tr th:only-of-type {\n",
       "        vertical-align: middle;\n",
       "    }\n",
       "\n",
       "    .dataframe tbody tr th {\n",
       "        vertical-align: top;\n",
       "    }\n",
       "\n",
       "    .dataframe thead th {\n",
       "        text-align: right;\n",
       "    }\n",
       "</style>\n",
       "<table border=\"1\" class=\"dataframe\">\n",
       "  <thead>\n",
       "    <tr style=\"text-align: right;\">\n",
       "      <th></th>\n",
       "      <th>ID</th>\n",
       "      <th>keywords</th>\n",
       "      <th>age</th>\n",
       "      <th>sex</th>\n",
       "    </tr>\n",
       "  </thead>\n",
       "  <tbody>\n",
       "    <tr>\n",
       "      <td>0</td>\n",
       "      <td>1</td>\n",
       "      <td>fibre:16;quoi:1;dangers:1;combien:1;hightech:1...</td>\n",
       "      <td>62</td>\n",
       "      <td>F</td>\n",
       "    </tr>\n",
       "    <tr>\n",
       "      <td>1</td>\n",
       "      <td>2</td>\n",
       "      <td>restaurant:1;marrakech.shtml:1</td>\n",
       "      <td>35</td>\n",
       "      <td>M</td>\n",
       "    </tr>\n",
       "    <tr>\n",
       "      <td>2</td>\n",
       "      <td>3</td>\n",
       "      <td>payer:1;faq:1;taxe:1;habitation:1;macron:1;qui...</td>\n",
       "      <td>45</td>\n",
       "      <td>F</td>\n",
       "    </tr>\n",
       "    <tr>\n",
       "      <td>3</td>\n",
       "      <td>4</td>\n",
       "      <td>rigaud:3;laurent:3;photo:11;profile:8;photopro...</td>\n",
       "      <td>46</td>\n",
       "      <td>F</td>\n",
       "    </tr>\n",
       "    <tr>\n",
       "      <td>4</td>\n",
       "      <td>5</td>\n",
       "      <td>societe:1;disparition:1;proche:1;m%c3%a9lanie....</td>\n",
       "      <td>42</td>\n",
       "      <td>F</td>\n",
       "    </tr>\n",
       "    <tr>\n",
       "      <td>5</td>\n",
       "      <td>6</td>\n",
       "      <td>portes:1;prives:1;entre:1;conso:1;mer:1;enfant...</td>\n",
       "      <td>49</td>\n",
       "      <td>F</td>\n",
       "    </tr>\n",
       "    <tr>\n",
       "      <td>6</td>\n",
       "      <td>8</td>\n",
       "      <td>son:1;laposte:1;forum:1;mobile:1;affich:1;forf...</td>\n",
       "      <td>47</td>\n",
       "      <td>F</td>\n",
       "    </tr>\n",
       "    <tr>\n",
       "      <td>7</td>\n",
       "      <td>9</td>\n",
       "      <td>location:1;preavis:1;mois:1;faq:1;modele:1;dep...</td>\n",
       "      <td>52</td>\n",
       "      <td>M</td>\n",
       "    </tr>\n",
       "    <tr>\n",
       "      <td>8</td>\n",
       "      <td>12</td>\n",
       "      <td>iphone:1;homme:1;vue:1;deuxieme:1;internet:1;g...</td>\n",
       "      <td>49</td>\n",
       "      <td>F</td>\n",
       "    </tr>\n",
       "    <tr>\n",
       "      <td>9</td>\n",
       "      <td>13</td>\n",
       "      <td>NaN</td>\n",
       "      <td>46</td>\n",
       "      <td>M</td>\n",
       "    </tr>\n",
       "  </tbody>\n",
       "</table>\n",
       "</div>"
      ],
      "text/plain": [
       "   ID                                           keywords  age sex\n",
       "0   1  fibre:16;quoi:1;dangers:1;combien:1;hightech:1...   62   F\n",
       "1   2                     restaurant:1;marrakech.shtml:1   35   M\n",
       "2   3  payer:1;faq:1;taxe:1;habitation:1;macron:1;qui...   45   F\n",
       "3   4  rigaud:3;laurent:3;photo:11;profile:8;photopro...   46   F\n",
       "4   5  societe:1;disparition:1;proche:1;m%c3%a9lanie....   42   F\n",
       "5   6  portes:1;prives:1;entre:1;conso:1;mer:1;enfant...   49   F\n",
       "6   8  son:1;laposte:1;forum:1;mobile:1;affich:1;forf...   47   F\n",
       "7   9  location:1;preavis:1;mois:1;faq:1;modele:1;dep...   52   M\n",
       "8  12  iphone:1;homme:1;vue:1;deuxieme:1;internet:1;g...   49   F\n",
       "9  13                                                NaN   46   M"
      ]
     },
     "execution_count": 3,
     "metadata": {},
     "output_type": "execute_result"
    }
   ],
   "source": [
    "# Shape of training data \n",
    "print(\"Shape of training data (num_rows, num_columns): {}\".format(train.shape))\n",
    "train.head(10)"
   ]
  },
  {
   "cell_type": "markdown",
   "metadata": {},
   "source": [
    "## Data Cleaning"
   ]
  },
  {
   "cell_type": "code",
   "execution_count": 4,
   "metadata": {},
   "outputs": [
    {
     "name": "stdout",
     "output_type": "stream",
     "text": [
      "['keywords']\n"
     ]
    }
   ],
   "source": [
    "# Get names of columns with missing values\n",
    "cols_with_missing = [col for col in train.columns\n",
    "                     if train[col].isnull().any()]\n",
    "print(cols_with_missing)"
   ]
  },
  {
   "cell_type": "code",
   "execution_count": 5,
   "metadata": {},
   "outputs": [
    {
     "name": "stdout",
     "output_type": "stream",
     "text": [
      "keywords    846396\n",
      "dtype: int64\n"
     ]
    }
   ],
   "source": [
    "# Number of missing values in each column of sample data\n",
    "missing_val_count_by_column = (train.isnull().sum())\n",
    "print(missing_val_count_by_column[missing_val_count_by_column > 0])\n",
    "\n",
    "# This represents a little less than 12% of our total dataset"
   ]
  },
  {
   "cell_type": "code",
   "execution_count": 3,
   "metadata": {},
   "outputs": [
    {
     "data": {
      "text/html": [
       "<div>\n",
       "<style scoped>\n",
       "    .dataframe tbody tr th:only-of-type {\n",
       "        vertical-align: middle;\n",
       "    }\n",
       "\n",
       "    .dataframe tbody tr th {\n",
       "        vertical-align: top;\n",
       "    }\n",
       "\n",
       "    .dataframe thead th {\n",
       "        text-align: right;\n",
       "    }\n",
       "</style>\n",
       "<table border=\"1\" class=\"dataframe\">\n",
       "  <thead>\n",
       "    <tr style=\"text-align: right;\">\n",
       "      <th></th>\n",
       "      <th>ID</th>\n",
       "      <th>keywords</th>\n",
       "      <th>age</th>\n",
       "      <th>sex</th>\n",
       "    </tr>\n",
       "  </thead>\n",
       "  <tbody>\n",
       "    <tr>\n",
       "      <td>0</td>\n",
       "      <td>1</td>\n",
       "      <td>fibre:16;quoi:1;dangers:1;combien:1;hightech:1...</td>\n",
       "      <td>62</td>\n",
       "      <td>F</td>\n",
       "    </tr>\n",
       "    <tr>\n",
       "      <td>1</td>\n",
       "      <td>2</td>\n",
       "      <td>restaurant:1;marrakech.shtml:1</td>\n",
       "      <td>35</td>\n",
       "      <td>M</td>\n",
       "    </tr>\n",
       "    <tr>\n",
       "      <td>2</td>\n",
       "      <td>3</td>\n",
       "      <td>payer:1;faq:1;taxe:1;habitation:1;macron:1;qui...</td>\n",
       "      <td>45</td>\n",
       "      <td>F</td>\n",
       "    </tr>\n",
       "    <tr>\n",
       "      <td>3</td>\n",
       "      <td>4</td>\n",
       "      <td>rigaud:3;laurent:3;photo:11;profile:8;photopro...</td>\n",
       "      <td>46</td>\n",
       "      <td>F</td>\n",
       "    </tr>\n",
       "    <tr>\n",
       "      <td>4</td>\n",
       "      <td>5</td>\n",
       "      <td>societe:1;disparition:1;proche:1;m%c3%a9lanie....</td>\n",
       "      <td>42</td>\n",
       "      <td>F</td>\n",
       "    </tr>\n",
       "    <tr>\n",
       "      <td>...</td>\n",
       "      <td>...</td>\n",
       "      <td>...</td>\n",
       "      <td>...</td>\n",
       "      <td>...</td>\n",
       "    </tr>\n",
       "    <tr>\n",
       "      <td>7265047</td>\n",
       "      <td>88783</td>\n",
       "      <td>suspect:2;scan:1;nouveau:1;femme:1;enlever:1;d...</td>\n",
       "      <td>30</td>\n",
       "      <td>F</td>\n",
       "    </tr>\n",
       "    <tr>\n",
       "      <td>7265048</td>\n",
       "      <td>340216</td>\n",
       "      <td>figaro:1</td>\n",
       "      <td>68</td>\n",
       "      <td>M</td>\n",
       "    </tr>\n",
       "    <tr>\n",
       "      <td>7265051</td>\n",
       "      <td>1318039</td>\n",
       "      <td>courte:2;bombee:1;coiff:3;oreal:3;tendances:28...</td>\n",
       "      <td>69</td>\n",
       "      <td>F</td>\n",
       "    </tr>\n",
       "    <tr>\n",
       "      <td>7265053</td>\n",
       "      <td>340230</td>\n",
       "      <td>dictionnaire:1;disparition:2;reussite:1;vue:2;...</td>\n",
       "      <td>21</td>\n",
       "      <td>M</td>\n",
       "    </tr>\n",
       "    <tr>\n",
       "      <td>7265054</td>\n",
       "      <td>1752401</td>\n",
       "      <td>gonfreville:1;pas:1;article:1;marche:1;poste:1...</td>\n",
       "      <td>31</td>\n",
       "      <td>M</td>\n",
       "    </tr>\n",
       "  </tbody>\n",
       "</table>\n",
       "<p>6418659 rows × 4 columns</p>\n",
       "</div>"
      ],
      "text/plain": [
       "              ID                                           keywords  age sex\n",
       "0              1  fibre:16;quoi:1;dangers:1;combien:1;hightech:1...   62   F\n",
       "1              2                     restaurant:1;marrakech.shtml:1   35   M\n",
       "2              3  payer:1;faq:1;taxe:1;habitation:1;macron:1;qui...   45   F\n",
       "3              4  rigaud:3;laurent:3;photo:11;profile:8;photopro...   46   F\n",
       "4              5  societe:1;disparition:1;proche:1;m%c3%a9lanie....   42   F\n",
       "...          ...                                                ...  ...  ..\n",
       "7265047    88783  suspect:2;scan:1;nouveau:1;femme:1;enlever:1;d...   30   F\n",
       "7265048   340216                                           figaro:1   68   M\n",
       "7265051  1318039  courte:2;bombee:1;coiff:3;oreal:3;tendances:28...   69   F\n",
       "7265053   340230  dictionnaire:1;disparition:2;reussite:1;vue:2;...   21   M\n",
       "7265054  1752401  gonfreville:1;pas:1;article:1;marche:1;poste:1...   31   M\n",
       "\n",
       "[6418659 rows x 4 columns]"
      ]
     },
     "execution_count": 3,
     "metadata": {},
     "output_type": "execute_result"
    }
   ],
   "source": [
    "# Remove missing values to avoid errors (we cannot replace or infer them here)\n",
    "train.dropna(axis=0, how='any', thresh=None, subset=None, inplace=False)"
   ]
  },
  {
   "cell_type": "code",
   "execution_count": 7,
   "metadata": {},
   "outputs": [
    {
     "data": {
      "text/plain": [
       "933        27315\n",
       "1888        4967\n",
       "947         4139\n",
       "3900        3123\n",
       "11719       2938\n",
       "           ...  \n",
       "7990058        1\n",
       "3748657        1\n",
       "3736375        1\n",
       "8039234        1\n",
       "4030780        1\n",
       "Name: ID, Length: 1615682, dtype: int64"
      ]
     },
     "execution_count": 7,
     "metadata": {},
     "output_type": "execute_result"
    }
   ],
   "source": [
    "# Next, the column ID is not unique, the same ID can come back many times\n",
    "# However we need to predict age and gender for every single ID\n",
    "train['ID'].value_counts()"
   ]
  },
  {
   "cell_type": "code",
   "execution_count": 4,
   "metadata": {},
   "outputs": [
    {
     "data": {
      "text/html": [
       "<div>\n",
       "<style scoped>\n",
       "    .dataframe tbody tr th:only-of-type {\n",
       "        vertical-align: middle;\n",
       "    }\n",
       "\n",
       "    .dataframe tbody tr th {\n",
       "        vertical-align: top;\n",
       "    }\n",
       "\n",
       "    .dataframe thead th {\n",
       "        text-align: right;\n",
       "    }\n",
       "</style>\n",
       "<table border=\"1\" class=\"dataframe\">\n",
       "  <thead>\n",
       "    <tr style=\"text-align: right;\">\n",
       "      <th></th>\n",
       "      <th>ID</th>\n",
       "      <th>age</th>\n",
       "      <th>sex</th>\n",
       "      <th>agg_keywords</th>\n",
       "    </tr>\n",
       "  </thead>\n",
       "  <tbody>\n",
       "    <tr>\n",
       "      <td>0</td>\n",
       "      <td>1</td>\n",
       "      <td>62</td>\n",
       "      <td>F</td>\n",
       "      <td>fibre:16;quoi:1;dangers:1;combien:1;hightech:1...</td>\n",
       "    </tr>\n",
       "    <tr>\n",
       "      <td>1</td>\n",
       "      <td>2</td>\n",
       "      <td>35</td>\n",
       "      <td>M</td>\n",
       "      <td>restaurant:1;marrakech.shtml:1; expositions:1;...</td>\n",
       "    </tr>\n",
       "    <tr>\n",
       "      <td>2</td>\n",
       "      <td>3</td>\n",
       "      <td>45</td>\n",
       "      <td>F</td>\n",
       "      <td>payer:1;faq:1;taxe:1;habitation:1;macron:1;qui...</td>\n",
       "    </tr>\n",
       "    <tr>\n",
       "      <td>3</td>\n",
       "      <td>4</td>\n",
       "      <td>46</td>\n",
       "      <td>F</td>\n",
       "      <td>rigaud:3;laurent:3;photo:11;profile:8;photopro...</td>\n",
       "    </tr>\n",
       "    <tr>\n",
       "      <td>4</td>\n",
       "      <td>5</td>\n",
       "      <td>42</td>\n",
       "      <td>F</td>\n",
       "      <td>societe:1;disparition:1;proche:1;m%c3%a9lanie....</td>\n",
       "    </tr>\n",
       "    <tr>\n",
       "      <td>5</td>\n",
       "      <td>6</td>\n",
       "      <td>49</td>\n",
       "      <td>F</td>\n",
       "      <td>portes:1;prives:1;entre:1;conso:1;mer:1;enfant...</td>\n",
       "    </tr>\n",
       "    <tr>\n",
       "      <td>6</td>\n",
       "      <td>8</td>\n",
       "      <td>47</td>\n",
       "      <td>F</td>\n",
       "      <td>son:1;laposte:1;forum:1;mobile:1;affich:1;forf...</td>\n",
       "    </tr>\n",
       "    <tr>\n",
       "      <td>7</td>\n",
       "      <td>9</td>\n",
       "      <td>52</td>\n",
       "      <td>M</td>\n",
       "      <td>location:1;preavis:1;mois:1;faq:1;modele:1;dep...</td>\n",
       "    </tr>\n",
       "    <tr>\n",
       "      <td>8</td>\n",
       "      <td>10</td>\n",
       "      <td>37</td>\n",
       "      <td>F</td>\n",
       "      <td>ambitieux:1;missions:1;foie:1;emmanuelle:1;ana...</td>\n",
       "    </tr>\n",
       "    <tr>\n",
       "      <td>9</td>\n",
       "      <td>11</td>\n",
       "      <td>51</td>\n",
       "      <td>F</td>\n",
       "      <td>bio:1;septembre:1;consommer:1;les:1;ses:1;mois...</td>\n",
       "    </tr>\n",
       "  </tbody>\n",
       "</table>\n",
       "</div>"
      ],
      "text/plain": [
       "   ID  age sex                                       agg_keywords\n",
       "0   1   62   F  fibre:16;quoi:1;dangers:1;combien:1;hightech:1...\n",
       "1   2   35   M  restaurant:1;marrakech.shtml:1; expositions:1;...\n",
       "2   3   45   F  payer:1;faq:1;taxe:1;habitation:1;macron:1;qui...\n",
       "3   4   46   F  rigaud:3;laurent:3;photo:11;profile:8;photopro...\n",
       "4   5   42   F  societe:1;disparition:1;proche:1;m%c3%a9lanie....\n",
       "5   6   49   F  portes:1;prives:1;entre:1;conso:1;mer:1;enfant...\n",
       "6   8   47   F  son:1;laposte:1;forum:1;mobile:1;affich:1;forf...\n",
       "7   9   52   M  location:1;preavis:1;mois:1;faq:1;modele:1;dep...\n",
       "8  10   37   F  ambitieux:1;missions:1;foie:1;emmanuelle:1;ana...\n",
       "9  11   51   F  bio:1;septembre:1;consommer:1;les:1;ses:1;mois..."
      ]
     },
     "execution_count": 4,
     "metadata": {},
     "output_type": "execute_result"
    }
   ],
   "source": [
    "# Aggregate keywords columns group by ID\n",
    "train[\"keywords\"] = train[\"keywords\"].astype(\"str\")\n",
    "grp = train.groupby(['ID','age','sex']).agg(agg_keywords=('keywords', '; '.join)).reset_index()\n",
    "grp.head(10)"
   ]
  },
  {
   "cell_type": "code",
   "execution_count": 9,
   "metadata": {},
   "outputs": [
    {
     "data": {
      "text/plain": [
       "2047       1\n",
       "294675     1\n",
       "4351034    1\n",
       "594835     1\n",
       "4290129    1\n",
       "          ..\n",
       "1588828    1\n",
       "1693281    1\n",
       "5885538    1\n",
       "1703524    1\n",
       "2049       1\n",
       "Name: ID, Length: 1615682, dtype: int64"
      ]
     },
     "execution_count": 9,
     "metadata": {},
     "output_type": "execute_result"
    }
   ],
   "source": [
    "# This works since there are around 1.6 million rows now, the number of unique ID's\n",
    "grp['ID'].value_counts()"
   ]
  },
  {
   "cell_type": "markdown",
   "metadata": {},
   "source": [
    "# Gender Prediction"
   ]
  },
  {
   "cell_type": "markdown",
   "metadata": {},
   "source": [
    "## Checking for unbalanced data "
   ]
  },
  {
   "cell_type": "code",
   "execution_count": 10,
   "metadata": {},
   "outputs": [
    {
     "name": "stdout",
     "output_type": "stream",
     "text": [
      "Percentage of males in full data set: 52.997000647404626\n",
      "Percentage of females in full data set: 47.002999352595374\n"
     ]
    }
   ],
   "source": [
    "#Unbalanced data?\n",
    "n_m = np.sum(grp['sex'] == \"M\")\n",
    "n_f = np.sum(grp['sex'] == \"F\")\n",
    "p_m = n_m/(n_m+n_f)*100\n",
    "p_f = n_f/(n_m+n_f)*100\n",
    "print(f\"Percentage of males in full data set: {p_m}\")\n",
    "print(f\"Percentage of females in full data set: {p_f}\")"
   ]
  },
  {
   "cell_type": "markdown",
   "metadata": {},
   "source": [
    "## Selecting Smaller Sample Size"
   ]
  },
  {
   "cell_type": "code",
   "execution_count": 11,
   "metadata": {},
   "outputs": [
    {
     "data": {
      "text/html": [
       "<div>\n",
       "<style scoped>\n",
       "    .dataframe tbody tr th:only-of-type {\n",
       "        vertical-align: middle;\n",
       "    }\n",
       "\n",
       "    .dataframe tbody tr th {\n",
       "        vertical-align: top;\n",
       "    }\n",
       "\n",
       "    .dataframe thead th {\n",
       "        text-align: right;\n",
       "    }\n",
       "</style>\n",
       "<table border=\"1\" class=\"dataframe\">\n",
       "  <thead>\n",
       "    <tr style=\"text-align: right;\">\n",
       "      <th></th>\n",
       "      <th>ID</th>\n",
       "      <th>age</th>\n",
       "      <th>sex</th>\n",
       "      <th>agg_keywords</th>\n",
       "    </tr>\n",
       "  </thead>\n",
       "  <tbody>\n",
       "    <tr>\n",
       "      <td>0</td>\n",
       "      <td>1</td>\n",
       "      <td>62</td>\n",
       "      <td>F</td>\n",
       "      <td>fibre:16;quoi:1;dangers:1;combien:1;hightech:1...</td>\n",
       "    </tr>\n",
       "    <tr>\n",
       "      <td>1</td>\n",
       "      <td>2</td>\n",
       "      <td>35</td>\n",
       "      <td>M</td>\n",
       "      <td>restaurant:1;marrakech.shtml:1; expositions:1;...</td>\n",
       "    </tr>\n",
       "    <tr>\n",
       "      <td>2</td>\n",
       "      <td>3</td>\n",
       "      <td>45</td>\n",
       "      <td>F</td>\n",
       "      <td>payer:1;faq:1;taxe:1;habitation:1;macron:1;qui...</td>\n",
       "    </tr>\n",
       "    <tr>\n",
       "      <td>3</td>\n",
       "      <td>4</td>\n",
       "      <td>46</td>\n",
       "      <td>F</td>\n",
       "      <td>rigaud:3;laurent:3;photo:11;profile:8;photopro...</td>\n",
       "    </tr>\n",
       "    <tr>\n",
       "      <td>4</td>\n",
       "      <td>5</td>\n",
       "      <td>42</td>\n",
       "      <td>F</td>\n",
       "      <td>societe:1;disparition:1;proche:1;m%c3%a9lanie....</td>\n",
       "    </tr>\n",
       "  </tbody>\n",
       "</table>\n",
       "</div>"
      ],
      "text/plain": [
       "   ID  age sex                                       agg_keywords\n",
       "0   1   62   F  fibre:16;quoi:1;dangers:1;combien:1;hightech:1...\n",
       "1   2   35   M  restaurant:1;marrakech.shtml:1; expositions:1;...\n",
       "2   3   45   F  payer:1;faq:1;taxe:1;habitation:1;macron:1;qui...\n",
       "3   4   46   F  rigaud:3;laurent:3;photo:11;profile:8;photopro...\n",
       "4   5   42   F  societe:1;disparition:1;proche:1;m%c3%a9lanie...."
      ]
     },
     "execution_count": 11,
     "metadata": {},
     "output_type": "execute_result"
    }
   ],
   "source": [
    "# Smaller sample chosen from the 1.6 million rows\n",
    "mergedsample=grp[:10000]\n",
    "mergedsample.head()"
   ]
  },
  {
   "cell_type": "markdown",
   "metadata": {},
   "source": [
    "## Text Cleaning"
   ]
  },
  {
   "cell_type": "code",
   "execution_count": 12,
   "metadata": {},
   "outputs": [
    {
     "name": "stderr",
     "output_type": "stream",
     "text": [
      "/opt/anaconda3/lib/python3.7/site-packages/ipykernel_launcher.py:13: SettingWithCopyWarning: \n",
      "A value is trying to be set on a copy of a slice from a DataFrame.\n",
      "Try using .loc[row_indexer,col_indexer] = value instead\n",
      "\n",
      "See the caveats in the documentation: http://pandas.pydata.org/pandas-docs/stable/user_guide/indexing.html#returning-a-view-versus-a-copy\n",
      "  del sys.path[0]\n"
     ]
    },
    {
     "data": {
      "text/html": [
       "<div>\n",
       "<style scoped>\n",
       "    .dataframe tbody tr th:only-of-type {\n",
       "        vertical-align: middle;\n",
       "    }\n",
       "\n",
       "    .dataframe tbody tr th {\n",
       "        vertical-align: top;\n",
       "    }\n",
       "\n",
       "    .dataframe thead th {\n",
       "        text-align: right;\n",
       "    }\n",
       "</style>\n",
       "<table border=\"1\" class=\"dataframe\">\n",
       "  <thead>\n",
       "    <tr style=\"text-align: right;\">\n",
       "      <th></th>\n",
       "      <th>ID</th>\n",
       "      <th>age</th>\n",
       "      <th>sex</th>\n",
       "      <th>text_norm</th>\n",
       "    </tr>\n",
       "  </thead>\n",
       "  <tbody>\n",
       "    <tr>\n",
       "      <td>0</td>\n",
       "      <td>1</td>\n",
       "      <td>62</td>\n",
       "      <td>F</td>\n",
       "      <td>fibre:16;quoi:1;dangers:1;combien:1;hightech:1...</td>\n",
       "    </tr>\n",
       "    <tr>\n",
       "      <td>1</td>\n",
       "      <td>2</td>\n",
       "      <td>35</td>\n",
       "      <td>M</td>\n",
       "      <td>restaurant:1;marrakech.shtml:1 expositions:1;b...</td>\n",
       "    </tr>\n",
       "    <tr>\n",
       "      <td>2</td>\n",
       "      <td>3</td>\n",
       "      <td>45</td>\n",
       "      <td>F</td>\n",
       "      <td>payer:1;faq:1;taxe:1;habitation:1;macron:1;qui...</td>\n",
       "    </tr>\n",
       "    <tr>\n",
       "      <td>3</td>\n",
       "      <td>4</td>\n",
       "      <td>46</td>\n",
       "      <td>F</td>\n",
       "      <td>rigaud:3;laurent:3;photo:11;profile:8;photopro...</td>\n",
       "    </tr>\n",
       "    <tr>\n",
       "      <td>4</td>\n",
       "      <td>5</td>\n",
       "      <td>42</td>\n",
       "      <td>F</td>\n",
       "      <td>societe:1;disparition:1;proche:1;m%c3%a9lanie....</td>\n",
       "    </tr>\n",
       "  </tbody>\n",
       "</table>\n",
       "</div>"
      ],
      "text/plain": [
       "   ID  age sex                                          text_norm\n",
       "0   1   62   F  fibre:16;quoi:1;dangers:1;combien:1;hightech:1...\n",
       "1   2   35   M  restaurant:1;marrakech.shtml:1 expositions:1;b...\n",
       "2   3   45   F  payer:1;faq:1;taxe:1;habitation:1;macron:1;qui...\n",
       "3   4   46   F  rigaud:3;laurent:3;photo:11;profile:8;photopro...\n",
       "4   5   42   F  societe:1;disparition:1;proche:1;m%c3%a9lanie...."
      ]
     },
     "execution_count": 12,
     "metadata": {},
     "output_type": "execute_result"
    }
   ],
   "source": [
    "#this part is for any text cleaning we want to do\n",
    "def normalize_text(s):\n",
    "    # just in case\n",
    "    s = str(s)\n",
    "    s = s.lower()\n",
    "    # remove punctuation that is not word-internal (e.g., hyphens, apostrophes)\n",
    "    s = re.sub('\\s\\W',' ',s)\n",
    "    s = re.sub('\\W\\s',' ',s)\n",
    "    # make sure we didn't introduce any double spaces\n",
    "    s = re.sub('\\s+',' ',s)\n",
    "    return s\n",
    "\n",
    "mergedsample['text_norm'] = [normalize_text(s) for s in mergedsample['agg_keywords']]\n",
    "mergedsample=mergedsample.drop(['agg_keywords'],axis=1)\n",
    "mergedsample.head()"
   ]
  },
  {
   "cell_type": "markdown",
   "metadata": {},
   "source": [
    "\n",
    "## Gender Prediction Iteration 1: Trying different models"
   ]
  },
  {
   "cell_type": "code",
   "execution_count": 13,
   "metadata": {},
   "outputs": [
    {
     "name": "stdout",
     "output_type": "stream",
     "text": [
      "(8000, 96625)\n",
      "(8000,)\n",
      "(2000, 96625)\n",
      "(2000,)\n"
     ]
    }
   ],
   "source": [
    "# Pull the data into vectors\n",
    "vectorizer = CountVectorizer()\n",
    "xsample = vectorizer.fit_transform(mergedsample['text_norm'])\n",
    "encoder = LabelEncoder()\n",
    "ysample = encoder.fit_transform(mergedsample['sex'])\n",
    "# split into train and test sets\n",
    "xs_train, xs_test, ys_train, ys_test = train_test_split(xsample, ysample, test_size=0.2)\n",
    "# take a look at the shape of each of these\n",
    "print(xs_train.shape)\n",
    "print(ys_train.shape)\n",
    "print(xs_test.shape)\n",
    "print(ys_test.shape)"
   ]
  },
  {
   "cell_type": "code",
   "execution_count": 14,
   "metadata": {},
   "outputs": [
    {
     "data": {
      "text/html": [
       "<div>\n",
       "<style scoped>\n",
       "    .dataframe tbody tr th:only-of-type {\n",
       "        vertical-align: middle;\n",
       "    }\n",
       "\n",
       "    .dataframe tbody tr th {\n",
       "        vertical-align: top;\n",
       "    }\n",
       "\n",
       "    .dataframe thead th {\n",
       "        text-align: right;\n",
       "    }\n",
       "</style>\n",
       "<table border=\"1\" class=\"dataframe\">\n",
       "  <thead>\n",
       "    <tr style=\"text-align: right;\">\n",
       "      <th></th>\n",
       "      <th>Train set</th>\n",
       "      <th>test set</th>\n",
       "    </tr>\n",
       "  </thead>\n",
       "  <tbody>\n",
       "    <tr>\n",
       "      <td>nb</td>\n",
       "      <td>0.76025</td>\n",
       "      <td>0.6550</td>\n",
       "    </tr>\n",
       "    <tr>\n",
       "      <td>dt</td>\n",
       "      <td>0.98625</td>\n",
       "      <td>0.5970</td>\n",
       "    </tr>\n",
       "    <tr>\n",
       "      <td>rf</td>\n",
       "      <td>0.98625</td>\n",
       "      <td>0.6500</td>\n",
       "    </tr>\n",
       "    <tr>\n",
       "      <td>gbt</td>\n",
       "      <td>0.66400</td>\n",
       "      <td>0.6275</td>\n",
       "    </tr>\n",
       "  </tbody>\n",
       "</table>\n",
       "</div>"
      ],
      "text/plain": [
       "     Train set  test set\n",
       "nb     0.76025    0.6550\n",
       "dt     0.98625    0.5970\n",
       "rf     0.98625    0.6500\n",
       "gbt    0.66400    0.6275"
      ]
     },
     "execution_count": 14,
     "metadata": {},
     "output_type": "execute_result"
    }
   ],
   "source": [
    "#Naive Bayes\n",
    "nb = MultinomialNB()\n",
    "nb.fit(xs_train, ys_train)\n",
    "# Decision Tree\n",
    "dt = DecisionTreeClassifier()\n",
    "dt.fit(xs_train, ys_train)\n",
    "# Random Forest \n",
    "rf = RandomForestClassifier(n_estimators=50, max_depth=None)\n",
    "rf.fit(xs_train, ys_train)\n",
    "# Gradient Boosted Trees\n",
    "gbt = GradientBoostingClassifier(n_estimators=50, learning_rate=1.0, max_depth=1) \n",
    "gbt.fit(xs_train, ys_train)\n",
    "\n",
    "r = {'Train set':[nb.score(xs_train, ys_train),dt.score(xs_train, ys_train),rf.score(xs_train, ys_train),gbt.score(xs_train, ys_train)],'test set':[nb.score(xs_test, ys_test),dt.score(xs_test, ys_test),rf.score(xs_test, ys_test),gbt.score(xs_test, ys_test)]}\n",
    "Results= pd.DataFrame(r,index=['nb','dt','rf','gbt'])\n",
    "Results"
   ]
  },
  {
   "cell_type": "markdown",
   "metadata": {},
   "source": [
    "## Gender Prediction Iteration 2: Removing frequencies"
   ]
  },
  {
   "cell_type": "code",
   "execution_count": 15,
   "metadata": {},
   "outputs": [
    {
     "data": {
      "text/html": [
       "<div>\n",
       "<style scoped>\n",
       "    .dataframe tbody tr th:only-of-type {\n",
       "        vertical-align: middle;\n",
       "    }\n",
       "\n",
       "    .dataframe tbody tr th {\n",
       "        vertical-align: top;\n",
       "    }\n",
       "\n",
       "    .dataframe thead th {\n",
       "        text-align: right;\n",
       "    }\n",
       "</style>\n",
       "<table border=\"1\" class=\"dataframe\">\n",
       "  <thead>\n",
       "    <tr style=\"text-align: right;\">\n",
       "      <th></th>\n",
       "      <th>ID</th>\n",
       "      <th>age</th>\n",
       "      <th>sex</th>\n",
       "      <th>text_norm</th>\n",
       "    </tr>\n",
       "  </thead>\n",
       "  <tbody>\n",
       "    <tr>\n",
       "      <td>0</td>\n",
       "      <td>1</td>\n",
       "      <td>62</td>\n",
       "      <td>F</td>\n",
       "      <td>[fibre, quoi, dangers, combien, hightech, que,...</td>\n",
       "    </tr>\n",
       "    <tr>\n",
       "      <td>1</td>\n",
       "      <td>2</td>\n",
       "      <td>35</td>\n",
       "      <td>M</td>\n",
       "      <td>[restaurant, expositions, blois, ajaccio, vill...</td>\n",
       "    </tr>\n",
       "    <tr>\n",
       "      <td>2</td>\n",
       "      <td>3</td>\n",
       "      <td>45</td>\n",
       "      <td>F</td>\n",
       "      <td>[payer, faq, taxe, habitation, macron, qui, de...</td>\n",
       "    </tr>\n",
       "    <tr>\n",
       "      <td>3</td>\n",
       "      <td>4</td>\n",
       "      <td>46</td>\n",
       "      <td>F</td>\n",
       "      <td>[rigaud, laurent, photo, profile, photoprofile...</td>\n",
       "    </tr>\n",
       "    <tr>\n",
       "      <td>4</td>\n",
       "      <td>5</td>\n",
       "      <td>42</td>\n",
       "      <td>F</td>\n",
       "      <td>[societe, disparition, proche, m, maelys, actu...</td>\n",
       "    </tr>\n",
       "  </tbody>\n",
       "</table>\n",
       "</div>"
      ],
      "text/plain": [
       "   ID  age sex                                          text_norm\n",
       "0   1   62   F  [fibre, quoi, dangers, combien, hightech, que,...\n",
       "1   2   35   M  [restaurant, expositions, blois, ajaccio, vill...\n",
       "2   3   45   F  [payer, faq, taxe, habitation, macron, qui, de...\n",
       "3   4   46   F  [rigaud, laurent, photo, profile, photoprofile...\n",
       "4   5   42   F  [societe, disparition, proche, m, maelys, actu..."
      ]
     },
     "execution_count": 15,
     "metadata": {},
     "output_type": "execute_result"
    }
   ],
   "source": [
    "# Most words only appear once\n",
    "# Adding further text cleaning require removing the frequencies. We test if it decreases the performances\n",
    "mergedsample.text_norm = mergedsample.text_norm.str.replace(':',' ')\n",
    "cleaningkey=mergedsample.text_norm\n",
    "tokensnoalpha = cleaningkey.apply(word_tokenize)\n",
    "tokensnoalpha=tokensnoalpha.apply(lambda lst: [word for word in lst if word.isalpha()])\n",
    "mergedsample.text_norm=tokensnoalpha\n",
    "mergedsample.head()"
   ]
  },
  {
   "cell_type": "code",
   "execution_count": 16,
   "metadata": {},
   "outputs": [
    {
     "name": "stdout",
     "output_type": "stream",
     "text": [
      "(8000, 67453)\n",
      "(8000,)\n",
      "(2000, 67453)\n",
      "(2000,)\n"
     ]
    }
   ],
   "source": [
    "# pull the data into vectors\n",
    "mergedsample.text_norm = mergedsample.text_norm.astype(\"str\")\n",
    "vectorizer = CountVectorizer()\n",
    "xsample2 = vectorizer.fit_transform(mergedsample['text_norm'])\n",
    "encoder = LabelEncoder()\n",
    "ysample2 = encoder.fit_transform(mergedsample['sex'])\n",
    "xs2_train, xs2_test, ys2_train, ys2_test = train_test_split(xsample2, ysample2, test_size=0.2)\n",
    "print(xs2_train.shape)\n",
    "print(ys2_train.shape)\n",
    "print(xs2_test.shape)\n",
    "print(ys2_test.shape)"
   ]
  },
  {
   "cell_type": "code",
   "execution_count": 17,
   "metadata": {},
   "outputs": [
    {
     "data": {
      "text/html": [
       "<div>\n",
       "<style scoped>\n",
       "    .dataframe tbody tr th:only-of-type {\n",
       "        vertical-align: middle;\n",
       "    }\n",
       "\n",
       "    .dataframe tbody tr th {\n",
       "        vertical-align: top;\n",
       "    }\n",
       "\n",
       "    .dataframe thead th {\n",
       "        text-align: right;\n",
       "    }\n",
       "</style>\n",
       "<table border=\"1\" class=\"dataframe\">\n",
       "  <thead>\n",
       "    <tr style=\"text-align: right;\">\n",
       "      <th></th>\n",
       "      <th>Train set</th>\n",
       "      <th>test set</th>\n",
       "    </tr>\n",
       "  </thead>\n",
       "  <tbody>\n",
       "    <tr>\n",
       "      <td>nb2</td>\n",
       "      <td>0.76025</td>\n",
       "      <td>0.6550</td>\n",
       "    </tr>\n",
       "    <tr>\n",
       "      <td>dt2</td>\n",
       "      <td>0.98625</td>\n",
       "      <td>0.6005</td>\n",
       "    </tr>\n",
       "    <tr>\n",
       "      <td>rf2</td>\n",
       "      <td>0.98625</td>\n",
       "      <td>0.6490</td>\n",
       "    </tr>\n",
       "    <tr>\n",
       "      <td>gbt2</td>\n",
       "      <td>0.66400</td>\n",
       "      <td>0.6275</td>\n",
       "    </tr>\n",
       "  </tbody>\n",
       "</table>\n",
       "</div>"
      ],
      "text/plain": [
       "      Train set  test set\n",
       "nb2     0.76025    0.6550\n",
       "dt2     0.98625    0.6005\n",
       "rf2     0.98625    0.6490\n",
       "gbt2    0.66400    0.6275"
      ]
     },
     "execution_count": 17,
     "metadata": {},
     "output_type": "execute_result"
    }
   ],
   "source": [
    "#Naive Bayes\n",
    "nb2 = MultinomialNB()\n",
    "nb2.fit(xs_train, ys_train)\n",
    "# Decision Tree\n",
    "dt2 = DecisionTreeClassifier()\n",
    "dt2.fit(xs_train, ys_train)\n",
    "# Random Forest \n",
    "rf2 = RandomForestClassifier(n_estimators=50, max_depth=None)\n",
    "rf2.fit(xs_train, ys_train)\n",
    "# Gradient Boosted Trees\n",
    "gbt2 = GradientBoostingClassifier(n_estimators=50, learning_rate=1.0, max_depth=1) \n",
    "gbt2.fit(xs_train, ys_train)\n",
    "\n",
    "r2 = {'Train set':[nb2.score(xs_train, ys_train),dt2.score(xs_train, ys_train),rf2.score(xs_train, ys_train),gbt2.score(xs_train, ys_train)],'test set':[nb2.score(xs_test, ys_test),dt2.score(xs_test, ys_test),rf2.score(xs_test, ys_test),gbt2.score(xs_test, ys_test)]}\n",
    "Results2= pd.DataFrame(r2,index=['nb2','dt2','rf2','gbt2'])\n",
    "Results2"
   ]
  },
  {
   "cell_type": "markdown",
   "metadata": {},
   "source": [
    "## Gender Prediction Iteration 3: Removing Stopwords"
   ]
  },
  {
   "cell_type": "code",
   "execution_count": 18,
   "metadata": {},
   "outputs": [
    {
     "data": {
      "text/plain": [
       "0     ['fibre', 'quoi', 'dangers', 'combien', 'hight...\n",
       "1     ['restaurant', 'expositions', 'blois', 'ajacci...\n",
       "2     ['payer', 'faq', 'taxe', 'habitation', 'macron...\n",
       "3     ['rigaud', 'laurent', 'photo', 'profile', 'pho...\n",
       "4     ['societe', 'disparition', 'proche', 'm', 'mae...\n",
       "5     ['portes', 'prives', 'entre', 'conso', 'mer', ...\n",
       "6     ['son', 'laposte', 'forum', 'mobile', 'affich'...\n",
       "7     ['location', 'preavis', 'mois', 'faq', 'modele...\n",
       "8     ['ambitieux', 'missions', 'foie', 'emmanuelle'...\n",
       "9     ['bio', 'septembre', 'consommer', 'les', 'ses'...\n",
       "10    ['iphone', 'homme', 'vue', 'deuxieme', 'intern...\n",
       "11    ['nan', 'nan', 'nan', 'nan', 'nan', 'nan', 'na...\n",
       "12    ['nan', 'nan', 'nan', 'nan', 'nan', 'nan', 'na...\n",
       "13    ['metre', 'jcms', 'prix', 'immmobilier', 'reco...\n",
       "14    ['censure', 'vox', 'cible', 'societe', 'antira...\n",
       "15    ['symptomes', 'profile', 'causes', 'faq', 'col...\n",
       "16    ['refuser', 'deuxieme', 'maelys', 'forum', 'ce...\n",
       "17    ['previsions', 'ville', 'indications', 'posolo...\n",
       "18    ['nan', 'pour', 'pape', 'obseques', 'francois'...\n",
       "19    ['amies', 'statines', 'homme', 'des', 'garde',...\n",
       "Name: text_norm, dtype: object"
      ]
     },
     "execution_count": 18,
     "metadata": {},
     "output_type": "execute_result"
    }
   ],
   "source": [
    "#now that we don't have frequencies, we focus on text cleaning, we want to eliminate stopwords such as 'les,le,des'\n",
    "mergedsample.text_norm.head(20)"
   ]
  },
  {
   "cell_type": "code",
   "execution_count": 19,
   "metadata": {},
   "outputs": [
    {
     "data": {
      "text/plain": [
       "0     [fibre, quoi, dangers, combien, hightech, rece...\n",
       "1     [restaurant, expositions, blois, ajaccio, vill...\n",
       "2     [payer, faq, taxe, habitation, macron, detail,...\n",
       "3     [rigaud, laurent, photo, profile, photoprofile...\n",
       "4     [societe, disparition, proche, maelys, actuali...\n",
       "5     [portes, prives, entre, conso, mer, enfants, c...\n",
       "6     [laposte, forum, mobile, affich, forfait, cons...\n",
       "7     [location, preavis, mois, faq, modele, depart,...\n",
       "8     [ambitieux, missions, foie, emmanuelle, anatom...\n",
       "9     [bio, septembre, consommer, mois, panier, ache...\n",
       "10    [iphone, homme, vue, deuxieme, internet, garde...\n",
       "11        [nan, nan, nan, nan, nan, nan, nan, nan, nan]\n",
       "12    [nan, nan, nan, nan, nan, nan, nan, nan, nan, ...\n",
       "13    [metre, jcms, prix, immmobilier, record, bat, ...\n",
       "14    [censure, vox, cible, societe, antiraciste, bo...\n",
       "15    [symptomes, profile, causes, faq, colite, trai...\n",
       "16    [refuser, deuxieme, maelys, forum, censure, af...\n",
       "17    [previsions, ville, indications, posologie, en...\n",
       "18    [nan, pape, obseques, francois, amboise, conso...\n",
       "19    [amies, statines, homme, garde, vue, maelys, e...\n",
       "Name: text_norm, dtype: object"
      ]
     },
     "execution_count": 19,
     "metadata": {},
     "output_type": "execute_result"
    }
   ],
   "source": [
    "tokensnostopwords=tokensnoalpha.apply(lambda lst: [word for word in lst if word not in stopwords.words('french')])\n",
    "mergedsample.text_norm=tokensnostopwords #this step takes a lot of time\n",
    "mergedsample.text_norm.head(20)"
   ]
  },
  {
   "cell_type": "code",
   "execution_count": 20,
   "metadata": {},
   "outputs": [
    {
     "name": "stdout",
     "output_type": "stream",
     "text": [
      "(8000, 67366)\n",
      "(8000,)\n",
      "(2000, 67366)\n",
      "(2000,)\n"
     ]
    }
   ],
   "source": [
    "# pull the data into vectors\n",
    "mergedsample.text_norm = mergedsample.text_norm.astype(\"str\")\n",
    "vectorizer = CountVectorizer()\n",
    "xsample = vectorizer.fit_transform(mergedsample['text_norm'])\n",
    "encoder = LabelEncoder()\n",
    "ysample = encoder.fit_transform(mergedsample['sex'])\n",
    "xs_train, xs_test, ys_train, ys_test = train_test_split(xsample, ysample, test_size=0.2)\n",
    "print(xs_train.shape)\n",
    "print(ys_train.shape)\n",
    "print(xs_test.shape)\n",
    "print(ys_test.shape)"
   ]
  },
  {
   "cell_type": "code",
   "execution_count": 21,
   "metadata": {},
   "outputs": [
    {
     "data": {
      "text/html": [
       "<div>\n",
       "<style scoped>\n",
       "    .dataframe tbody tr th:only-of-type {\n",
       "        vertical-align: middle;\n",
       "    }\n",
       "\n",
       "    .dataframe tbody tr th {\n",
       "        vertical-align: top;\n",
       "    }\n",
       "\n",
       "    .dataframe thead th {\n",
       "        text-align: right;\n",
       "    }\n",
       "</style>\n",
       "<table border=\"1\" class=\"dataframe\">\n",
       "  <thead>\n",
       "    <tr style=\"text-align: right;\">\n",
       "      <th></th>\n",
       "      <th>Train set</th>\n",
       "      <th>test set</th>\n",
       "    </tr>\n",
       "  </thead>\n",
       "  <tbody>\n",
       "    <tr>\n",
       "      <td>nb3</td>\n",
       "      <td>0.743125</td>\n",
       "      <td>0.6675</td>\n",
       "    </tr>\n",
       "    <tr>\n",
       "      <td>dt3</td>\n",
       "      <td>0.984375</td>\n",
       "      <td>0.5920</td>\n",
       "    </tr>\n",
       "    <tr>\n",
       "      <td>rf3</td>\n",
       "      <td>0.984250</td>\n",
       "      <td>0.6545</td>\n",
       "    </tr>\n",
       "    <tr>\n",
       "      <td>gbt3</td>\n",
       "      <td>0.667875</td>\n",
       "      <td>0.6490</td>\n",
       "    </tr>\n",
       "  </tbody>\n",
       "</table>\n",
       "</div>"
      ],
      "text/plain": [
       "      Train set  test set\n",
       "nb3    0.743125    0.6675\n",
       "dt3    0.984375    0.5920\n",
       "rf3    0.984250    0.6545\n",
       "gbt3   0.667875    0.6490"
      ]
     },
     "execution_count": 21,
     "metadata": {},
     "output_type": "execute_result"
    }
   ],
   "source": [
    "#Naive Bayes\n",
    "nb3 = MultinomialNB()\n",
    "nb3.fit(xs_train, ys_train)\n",
    "# Decision Tree\n",
    "dt3 = DecisionTreeClassifier()\n",
    "dt3.fit(xs_train, ys_train)\n",
    "# Random Forest \n",
    "rf3 = RandomForestClassifier(n_estimators=50, max_depth=None)\n",
    "rf3.fit(xs_train, ys_train)\n",
    "# Gradient Boosted Trees\n",
    "gbt3 = GradientBoostingClassifier(n_estimators=50, learning_rate=1.0, max_depth=1) \n",
    "gbt3.fit(xs_train, ys_train)\n",
    "\n",
    "r3 = {'Train set':[nb3.score(xs_train, ys_train),dt3.score(xs_train, ys_train),rf3.score(xs_train, ys_train),gbt3.score(xs_train, ys_train)],'test set':[nb3.score(xs_test, ys_test),dt3.score(xs_test, ys_test),rf3.score(xs_test, ys_test),gbt3.score(xs_test, ys_test)]}\n",
    "Results3= pd.DataFrame(r3,index=['nb3','dt3','rf3','gbt3'])\n",
    "Results3"
   ]
  },
  {
   "cell_type": "markdown",
   "metadata": {},
   "source": [
    "## Gender Prediction Iteration 4 : Stemming"
   ]
  },
  {
   "cell_type": "code",
   "execution_count": 22,
   "metadata": {},
   "outputs": [
    {
     "data": {
      "text/plain": [
       "0     ['fibre', 'quoi', 'dangers', 'combien', 'hight...\n",
       "1     ['restaurant', 'expositions', 'blois', 'ajacci...\n",
       "2     ['payer', 'faq', 'taxe', 'habitation', 'macron...\n",
       "3     ['rigaud', 'laurent', 'photo', 'profile', 'pho...\n",
       "4     ['societe', 'disparition', 'proche', 'maelys',...\n",
       "5     ['portes', 'prives', 'entre', 'conso', 'mer', ...\n",
       "6     ['laposte', 'forum', 'mobile', 'affich', 'forf...\n",
       "7     ['location', 'preavis', 'mois', 'faq', 'modele...\n",
       "8     ['ambitieux', 'missions', 'foie', 'emmanuelle'...\n",
       "9     ['bio', 'septembre', 'consommer', 'mois', 'pan...\n",
       "10    ['iphone', 'homme', 'vue', 'deuxieme', 'intern...\n",
       "11    ['nan', 'nan', 'nan', 'nan', 'nan', 'nan', 'na...\n",
       "12    ['nan', 'nan', 'nan', 'nan', 'nan', 'nan', 'na...\n",
       "13    ['metre', 'jcms', 'prix', 'immmobilier', 'reco...\n",
       "14    ['censure', 'vox', 'cible', 'societe', 'antira...\n",
       "15    ['symptomes', 'profile', 'causes', 'faq', 'col...\n",
       "16    ['refuser', 'deuxieme', 'maelys', 'forum', 'ce...\n",
       "17    ['previsions', 'ville', 'indications', 'posolo...\n",
       "18    ['nan', 'pape', 'obseques', 'francois', 'amboi...\n",
       "19    ['amies', 'statines', 'homme', 'garde', 'vue',...\n",
       "20    ['nan', 'tue', 'place', 'politique', 'scan', '...\n",
       "21    ['leila', 'nouvelle', 'boudjahlat', 'censure',...\n",
       "22    ['tabac', 'terrorisme', 'excuses', 'luxe', 'do...\n",
       "23    ['trouve', 'russe', 'parade', 'start', 'cheque...\n",
       "24    ['blanche', 'villes', 'francaises', 'causes', ...\n",
       "25    ['definition', 'sgpt', 'asat', 'sgot', 'faq', ...\n",
       "26    ['lively', 'messi', 'enzo', 'nolwenn', 'diaz',...\n",
       "27    ['nan', 'nan', 'nan', 'nan', 'nan', 'nan', 'na...\n",
       "28    ['deuxieme', 'look', 'films', 'flash', 'vue', ...\n",
       "29    ['flash', 'fauteuil', 'attaque', 'bitumeurs', ...\n",
       "Name: text_norm, dtype: object"
      ]
     },
     "execution_count": 22,
     "metadata": {},
     "output_type": "execute_result"
    }
   ],
   "source": [
    "#we perform stemming to reduce words dimensions\n",
    "mergedsample.text_norm.head(30)"
   ]
  },
  {
   "cell_type": "code",
   "execution_count": 23,
   "metadata": {},
   "outputs": [
    {
     "data": {
      "text/plain": [
       "0     [fibr, quoi, danger, combien, hightech, recevr...\n",
       "1     [restaur, exposit, bloi, ajaccio, vill, bonapa...\n",
       "2     [payer, faq, tax, habit, macron, detail, progr...\n",
       "3     [rigaud, laurent, photo, profil, photoprofil, ...\n",
       "4     [societ, disparit, proch, maeli, actualit, aff...\n",
       "5     [port, prive, entr, conso, mer, enfant, ciel, ...\n",
       "6     [lapost, forum, mobil, affich, forfait, consul...\n",
       "7     [locat, preavi, moi, faq, model, depart, ide, ...\n",
       "8     [ambitieux, mission, foie, emmanuel, anatomi, ...\n",
       "9     [bio, septembr, consomm, moi, panier, achet, j...\n",
       "10    [iphon, homm, vue, deuxiem, internet, gard, di...\n",
       "11        [nan, nan, nan, nan, nan, nan, nan, nan, nan]\n",
       "12    [nan, nan, nan, nan, nan, nan, nan, nan, nan, ...\n",
       "13    [metr, jcm, prix, immmobili, record, bat, pari...\n",
       "14    [censur, vox, cibl, societ, antiracist, boudja...\n",
       "15    [symptom, profil, caus, faq, colit, traitement...\n",
       "16    [refus, deuxiem, maeli, forum, censur, affich,...\n",
       "17    [previs, vill, indic, posologi, enghien, meteo...\n",
       "18    [nan, pape, obsequ, francoi, ambois, conso, fe...\n",
       "19    [ami, statin, homm, gard, vue, maeli, ennemi, ...\n",
       "20    [nan, tue, place, politiqu, scan, lrem, multic...\n",
       "21    [leila, nouvel, boudjahlat, censur, societ, an...\n",
       "22    [tabac, terrorism, excus, lux, dollar, boi, lo...\n",
       "23    [trouv, russ, parad, start, chequ, ciel, incro...\n",
       "24    [blanch, vill, francais, caus, locaux, traitem...\n",
       "25    [definit, sgpt, asat, sgot, faq, transaminas, ...\n",
       "26    [live, messi, enzo, nolwenn, diaz, kourtney, b...\n",
       "27    [nan, nan, nan, nan, nan, nan, nan, nan, nan, ...\n",
       "28    [deuxiem, look, film, flash, vue, place, depp,...\n",
       "29    [flash, fauteuil, attaqu, bitumeur, arnaqu, ec...\n",
       "Name: text_norm, dtype: object"
      ]
     },
     "execution_count": 23,
     "metadata": {},
     "output_type": "execute_result"
    }
   ],
   "source": [
    "ps = PorterStemmer()\n",
    "tokenstem=tokensnostopwords.apply(lambda lst: [ ps.stem(w) for w in lst])\n",
    "mergedsample.text_norm=tokenstem\n",
    "mergedsample.text_norm.head(30)"
   ]
  },
  {
   "cell_type": "code",
   "execution_count": 24,
   "metadata": {},
   "outputs": [
    {
     "name": "stdout",
     "output_type": "stream",
     "text": [
      "(8000, 55070)\n",
      "(8000,)\n",
      "(2000, 55070)\n",
      "(2000,)\n"
     ]
    }
   ],
   "source": [
    "# pull the data into vectors\n",
    "mergedsample.text_norm = mergedsample.text_norm.astype(\"str\")\n",
    "vectorizer = CountVectorizer()\n",
    "xsample = vectorizer.fit_transform(mergedsample['text_norm'])\n",
    "encoder = LabelEncoder()\n",
    "ysample = encoder.fit_transform(mergedsample['sex'])\n",
    "xs_train, xs_test, ys_train, ys_test = train_test_split(xsample, ysample, test_size=0.2)\n",
    "print(xs_train.shape)\n",
    "print(ys_train.shape)\n",
    "print(xs_test.shape)\n",
    "print(ys_test.shape)"
   ]
  },
  {
   "cell_type": "code",
   "execution_count": 25,
   "metadata": {},
   "outputs": [
    {
     "data": {
      "text/html": [
       "<div>\n",
       "<style scoped>\n",
       "    .dataframe tbody tr th:only-of-type {\n",
       "        vertical-align: middle;\n",
       "    }\n",
       "\n",
       "    .dataframe tbody tr th {\n",
       "        vertical-align: top;\n",
       "    }\n",
       "\n",
       "    .dataframe thead th {\n",
       "        text-align: right;\n",
       "    }\n",
       "</style>\n",
       "<table border=\"1\" class=\"dataframe\">\n",
       "  <thead>\n",
       "    <tr style=\"text-align: right;\">\n",
       "      <th></th>\n",
       "      <th>Train set</th>\n",
       "      <th>test set</th>\n",
       "    </tr>\n",
       "  </thead>\n",
       "  <tbody>\n",
       "    <tr>\n",
       "      <td>nb4</td>\n",
       "      <td>0.659375</td>\n",
       "      <td>0.6095</td>\n",
       "    </tr>\n",
       "    <tr>\n",
       "      <td>dt4</td>\n",
       "      <td>0.985125</td>\n",
       "      <td>0.6025</td>\n",
       "    </tr>\n",
       "    <tr>\n",
       "      <td>rf4</td>\n",
       "      <td>0.985000</td>\n",
       "      <td>0.6475</td>\n",
       "    </tr>\n",
       "    <tr>\n",
       "      <td>gbt4</td>\n",
       "      <td>0.671125</td>\n",
       "      <td>0.6375</td>\n",
       "    </tr>\n",
       "  </tbody>\n",
       "</table>\n",
       "</div>"
      ],
      "text/plain": [
       "      Train set  test set\n",
       "nb4    0.659375    0.6095\n",
       "dt4    0.985125    0.6025\n",
       "rf4    0.985000    0.6475\n",
       "gbt4   0.671125    0.6375"
      ]
     },
     "execution_count": 25,
     "metadata": {},
     "output_type": "execute_result"
    }
   ],
   "source": [
    "#Naive Bayes\n",
    "nb4 = MultinomialNB()\n",
    "nb4.fit(xs_train, ys_train)\n",
    "# Decision Tree\n",
    "dt4 = DecisionTreeClassifier()\n",
    "dt4.fit(xs_train, ys_train)\n",
    "# Random Forest \n",
    "rf4 = RandomForestClassifier(n_estimators=50, max_depth=None)\n",
    "rf4.fit(xs_train, ys_train)\n",
    "# Gradient Boosted Trees\n",
    "gbt4 = GradientBoostingClassifier(n_estimators=50, learning_rate=1.0, max_depth=1) \n",
    "gbt4.fit(xs_train, ys_train)\n",
    "\n",
    "r4 = {'Train set':[nb4.score(xs_train, ys_train),dt4.score(xs_train, ys_train),rf4.score(xs_train, ys_train),gbt4.score(xs_train, ys_train)],'test set':[nb4.score(xs_test, ys_test),dt4.score(xs_test, ys_test),rf4.score(xs_test, ys_test),gbt4.score(xs_test, ys_test)]}\n",
    "Results4= pd.DataFrame(r4,index=['nb4','dt4','rf4','gbt4'])\n",
    "Results4"
   ]
  },
  {
   "cell_type": "markdown",
   "metadata": {},
   "source": [
    "##  Summary Cleaning"
   ]
  },
  {
   "cell_type": "code",
   "execution_count": 27,
   "metadata": {},
   "outputs": [
    {
     "data": {
      "text/html": [
       "<div>\n",
       "<style scoped>\n",
       "    .dataframe tbody tr th:only-of-type {\n",
       "        vertical-align: middle;\n",
       "    }\n",
       "\n",
       "    .dataframe tbody tr th {\n",
       "        vertical-align: top;\n",
       "    }\n",
       "\n",
       "    .dataframe thead th {\n",
       "        text-align: right;\n",
       "    }\n",
       "</style>\n",
       "<table border=\"1\" class=\"dataframe\">\n",
       "  <thead>\n",
       "    <tr style=\"text-align: right;\">\n",
       "      <th></th>\n",
       "      <th>ID</th>\n",
       "      <th>text_norm</th>\n",
       "    </tr>\n",
       "  </thead>\n",
       "  <tbody>\n",
       "    <tr>\n",
       "      <td>0</td>\n",
       "      <td>1</td>\n",
       "      <td>['fibr', 'quoi', 'danger', 'combien', 'hightec...</td>\n",
       "    </tr>\n",
       "    <tr>\n",
       "      <td>1</td>\n",
       "      <td>2</td>\n",
       "      <td>['restaur', 'exposit', 'bloi', 'ajaccio', 'vil...</td>\n",
       "    </tr>\n",
       "    <tr>\n",
       "      <td>2</td>\n",
       "      <td>3</td>\n",
       "      <td>['payer', 'faq', 'tax', 'habit', 'macron', 'de...</td>\n",
       "    </tr>\n",
       "    <tr>\n",
       "      <td>3</td>\n",
       "      <td>4</td>\n",
       "      <td>['rigaud', 'laurent', 'photo', 'profil', 'phot...</td>\n",
       "    </tr>\n",
       "    <tr>\n",
       "      <td>4</td>\n",
       "      <td>5</td>\n",
       "      <td>['societ', 'disparit', 'proch', 'maeli', 'actu...</td>\n",
       "    </tr>\n",
       "    <tr>\n",
       "      <td>5</td>\n",
       "      <td>6</td>\n",
       "      <td>['port', 'prive', 'entr', 'conso', 'mer', 'enf...</td>\n",
       "    </tr>\n",
       "    <tr>\n",
       "      <td>6</td>\n",
       "      <td>8</td>\n",
       "      <td>['lapost', 'forum', 'mobil', 'affich', 'forfai...</td>\n",
       "    </tr>\n",
       "    <tr>\n",
       "      <td>7</td>\n",
       "      <td>9</td>\n",
       "      <td>['locat', 'preavi', 'moi', 'faq', 'model', 'de...</td>\n",
       "    </tr>\n",
       "    <tr>\n",
       "      <td>8</td>\n",
       "      <td>10</td>\n",
       "      <td>['ambitieux', 'mission', 'foie', 'emmanuel', '...</td>\n",
       "    </tr>\n",
       "    <tr>\n",
       "      <td>9</td>\n",
       "      <td>11</td>\n",
       "      <td>['bio', 'septembr', 'consomm', 'moi', 'panier'...</td>\n",
       "    </tr>\n",
       "    <tr>\n",
       "      <td>10</td>\n",
       "      <td>12</td>\n",
       "      <td>['iphon', 'homm', 'vue', 'deuxiem', 'internet'...</td>\n",
       "    </tr>\n",
       "    <tr>\n",
       "      <td>11</td>\n",
       "      <td>13</td>\n",
       "      <td>['nan', 'nan', 'nan', 'nan', 'nan', 'nan', 'na...</td>\n",
       "    </tr>\n",
       "    <tr>\n",
       "      <td>12</td>\n",
       "      <td>14</td>\n",
       "      <td>['nan', 'nan', 'nan', 'nan', 'nan', 'nan', 'na...</td>\n",
       "    </tr>\n",
       "    <tr>\n",
       "      <td>13</td>\n",
       "      <td>15</td>\n",
       "      <td>['metr', 'jcm', 'prix', 'immmobili', 'record',...</td>\n",
       "    </tr>\n",
       "    <tr>\n",
       "      <td>14</td>\n",
       "      <td>16</td>\n",
       "      <td>['censur', 'vox', 'cibl', 'societ', 'antiracis...</td>\n",
       "    </tr>\n",
       "    <tr>\n",
       "      <td>15</td>\n",
       "      <td>17</td>\n",
       "      <td>['symptom', 'profil', 'caus', 'faq', 'colit', ...</td>\n",
       "    </tr>\n",
       "    <tr>\n",
       "      <td>16</td>\n",
       "      <td>18</td>\n",
       "      <td>['refus', 'deuxiem', 'maeli', 'forum', 'censur...</td>\n",
       "    </tr>\n",
       "    <tr>\n",
       "      <td>17</td>\n",
       "      <td>19</td>\n",
       "      <td>['previs', 'vill', 'indic', 'posologi', 'enghi...</td>\n",
       "    </tr>\n",
       "    <tr>\n",
       "      <td>18</td>\n",
       "      <td>20</td>\n",
       "      <td>['nan', 'pape', 'obsequ', 'francoi', 'ambois',...</td>\n",
       "    </tr>\n",
       "    <tr>\n",
       "      <td>19</td>\n",
       "      <td>21</td>\n",
       "      <td>['ami', 'statin', 'homm', 'gard', 'vue', 'mael...</td>\n",
       "    </tr>\n",
       "    <tr>\n",
       "      <td>20</td>\n",
       "      <td>22</td>\n",
       "      <td>['nan', 'tue', 'place', 'politiqu', 'scan', 'l...</td>\n",
       "    </tr>\n",
       "    <tr>\n",
       "      <td>21</td>\n",
       "      <td>23</td>\n",
       "      <td>['leila', 'nouvel', 'boudjahlat', 'censur', 's...</td>\n",
       "    </tr>\n",
       "    <tr>\n",
       "      <td>22</td>\n",
       "      <td>24</td>\n",
       "      <td>['tabac', 'terrorism', 'excus', 'lux', 'dollar...</td>\n",
       "    </tr>\n",
       "    <tr>\n",
       "      <td>23</td>\n",
       "      <td>25</td>\n",
       "      <td>['trouv', 'russ', 'parad', 'start', 'chequ', '...</td>\n",
       "    </tr>\n",
       "    <tr>\n",
       "      <td>24</td>\n",
       "      <td>26</td>\n",
       "      <td>['blanch', 'vill', 'francais', 'caus', 'locaux...</td>\n",
       "    </tr>\n",
       "    <tr>\n",
       "      <td>25</td>\n",
       "      <td>27</td>\n",
       "      <td>['definit', 'sgpt', 'asat', 'sgot', 'faq', 'tr...</td>\n",
       "    </tr>\n",
       "    <tr>\n",
       "      <td>26</td>\n",
       "      <td>28</td>\n",
       "      <td>['live', 'messi', 'enzo', 'nolwenn', 'diaz', '...</td>\n",
       "    </tr>\n",
       "    <tr>\n",
       "      <td>27</td>\n",
       "      <td>29</td>\n",
       "      <td>['nan', 'nan', 'nan', 'nan', 'nan', 'nan', 'na...</td>\n",
       "    </tr>\n",
       "    <tr>\n",
       "      <td>28</td>\n",
       "      <td>30</td>\n",
       "      <td>['deuxiem', 'look', 'film', 'flash', 'vue', 'p...</td>\n",
       "    </tr>\n",
       "    <tr>\n",
       "      <td>29</td>\n",
       "      <td>31</td>\n",
       "      <td>['flash', 'fauteuil', 'attaqu', 'bitumeur', 'a...</td>\n",
       "    </tr>\n",
       "  </tbody>\n",
       "</table>\n",
       "</div>"
      ],
      "text/plain": [
       "    ID                                          text_norm\n",
       "0    1  ['fibr', 'quoi', 'danger', 'combien', 'hightec...\n",
       "1    2  ['restaur', 'exposit', 'bloi', 'ajaccio', 'vil...\n",
       "2    3  ['payer', 'faq', 'tax', 'habit', 'macron', 'de...\n",
       "3    4  ['rigaud', 'laurent', 'photo', 'profil', 'phot...\n",
       "4    5  ['societ', 'disparit', 'proch', 'maeli', 'actu...\n",
       "5    6  ['port', 'prive', 'entr', 'conso', 'mer', 'enf...\n",
       "6    8  ['lapost', 'forum', 'mobil', 'affich', 'forfai...\n",
       "7    9  ['locat', 'preavi', 'moi', 'faq', 'model', 'de...\n",
       "8   10  ['ambitieux', 'mission', 'foie', 'emmanuel', '...\n",
       "9   11  ['bio', 'septembr', 'consomm', 'moi', 'panier'...\n",
       "10  12  ['iphon', 'homm', 'vue', 'deuxiem', 'internet'...\n",
       "11  13  ['nan', 'nan', 'nan', 'nan', 'nan', 'nan', 'na...\n",
       "12  14  ['nan', 'nan', 'nan', 'nan', 'nan', 'nan', 'na...\n",
       "13  15  ['metr', 'jcm', 'prix', 'immmobili', 'record',...\n",
       "14  16  ['censur', 'vox', 'cibl', 'societ', 'antiracis...\n",
       "15  17  ['symptom', 'profil', 'caus', 'faq', 'colit', ...\n",
       "16  18  ['refus', 'deuxiem', 'maeli', 'forum', 'censur...\n",
       "17  19  ['previs', 'vill', 'indic', 'posologi', 'enghi...\n",
       "18  20  ['nan', 'pape', 'obsequ', 'francoi', 'ambois',...\n",
       "19  21  ['ami', 'statin', 'homm', 'gard', 'vue', 'mael...\n",
       "20  22  ['nan', 'tue', 'place', 'politiqu', 'scan', 'l...\n",
       "21  23  ['leila', 'nouvel', 'boudjahlat', 'censur', 's...\n",
       "22  24  ['tabac', 'terrorism', 'excus', 'lux', 'dollar...\n",
       "23  25  ['trouv', 'russ', 'parad', 'start', 'chequ', '...\n",
       "24  26  ['blanch', 'vill', 'francais', 'caus', 'locaux...\n",
       "25  27  ['definit', 'sgpt', 'asat', 'sgot', 'faq', 'tr...\n",
       "26  28  ['live', 'messi', 'enzo', 'nolwenn', 'diaz', '...\n",
       "27  29  ['nan', 'nan', 'nan', 'nan', 'nan', 'nan', 'na...\n",
       "28  30  ['deuxiem', 'look', 'film', 'flash', 'vue', 'p...\n",
       "29  31  ['flash', 'fauteuil', 'attaqu', 'bitumeur', 'a..."
      ]
     },
     "execution_count": 27,
     "metadata": {},
     "output_type": "execute_result"
    }
   ],
   "source": [
    "before=pd.DataFrame(grp[:30])\n",
    "before=before.drop(['sex','age','agg_keywords'],axis=1)\n",
    "after=pd.DataFrame(mergedsample.text_norm[:30])\n",
    "cleaning=[before,after]\n",
    "pd.concat(cleaning,axis=1)"
   ]
  },
  {
   "cell_type": "markdown",
   "metadata": {},
   "source": [
    "## Summary Results"
   ]
  },
  {
   "cell_type": "code",
   "execution_count": 28,
   "metadata": {},
   "outputs": [
    {
     "data": {
      "text/plain": [
       "[     Train set  test set\n",
       " nb     0.76025    0.6550\n",
       " dt     0.98625    0.5970\n",
       " rf     0.98625    0.6500\n",
       " gbt    0.66400    0.6275,       Train set  test set\n",
       " nb2     0.76025    0.6550\n",
       " dt2     0.98625    0.6005\n",
       " rf2     0.98625    0.6490\n",
       " gbt2    0.66400    0.6275,       Train set  test set\n",
       " nb3    0.743125    0.6675\n",
       " dt3    0.984375    0.5920\n",
       " rf3    0.984250    0.6545\n",
       " gbt3   0.667875    0.6490,       Train set  test set\n",
       " nb4    0.659375    0.6095\n",
       " dt4    0.985125    0.6025\n",
       " rf4    0.985000    0.6475\n",
       " gbt4   0.671125    0.6375]"
      ]
     },
     "execution_count": 28,
     "metadata": {},
     "output_type": "execute_result"
    }
   ],
   "source": [
    "final=[Results,Results2,Results3,Results4]\n",
    "final\n",
    "\n",
    "# There seems to be overfitting for decision tree and random forest \n",
    "# We see that additional cleaning does not drastically increase performance "
   ]
  },
  {
   "cell_type": "markdown",
   "metadata": {},
   "source": [
    "# Age Prediction"
   ]
  },
  {
   "cell_type": "markdown",
   "metadata": {},
   "source": [
    "## Data Exploration"
   ]
  },
  {
   "cell_type": "code",
   "execution_count": 34,
   "metadata": {},
   "outputs": [
    {
     "data": {
      "image/png": "[encoded data removed]",
      "text/plain": [
       "<Figure size 1296x432 with 1 Axes>"
      ]
     },
     "metadata": {},
     "output_type": "display_data"
    }
   ],
   "source": [
    "plt.style.use('fivethirtyeight')\n",
    "plt.figure(1 , figsize = (18 , 6))\n",
    "n = 0 \n",
    "for x in ['age']:\n",
    "    n += 1\n",
    "    plt.subplot(1 , 3 , n)\n",
    "    plt.subplots_adjust(hspace =0.5 , wspace = 0.5)\n",
    "    sns.distplot(grp[x] , bins = 20)\n",
    "    plt.title('Distribution of {}'.format(x))\n",
    "plt.show()"
   ]
  },
  {
   "cell_type": "markdown",
   "metadata": {},
   "source": [
    "## Select smaller sample"
   ]
  },
  {
   "cell_type": "code",
   "execution_count": 35,
   "metadata": {},
   "outputs": [
    {
     "data": {
      "text/html": [
       "<div>\n",
       "<style scoped>\n",
       "    .dataframe tbody tr th:only-of-type {\n",
       "        vertical-align: middle;\n",
       "    }\n",
       "\n",
       "    .dataframe tbody tr th {\n",
       "        vertical-align: top;\n",
       "    }\n",
       "\n",
       "    .dataframe thead th {\n",
       "        text-align: right;\n",
       "    }\n",
       "</style>\n",
       "<table border=\"1\" class=\"dataframe\">\n",
       "  <thead>\n",
       "    <tr style=\"text-align: right;\">\n",
       "      <th></th>\n",
       "      <th>ID</th>\n",
       "      <th>age</th>\n",
       "      <th>sex</th>\n",
       "      <th>agg_keywords</th>\n",
       "    </tr>\n",
       "  </thead>\n",
       "  <tbody>\n",
       "    <tr>\n",
       "      <td>0</td>\n",
       "      <td>1</td>\n",
       "      <td>62</td>\n",
       "      <td>F</td>\n",
       "      <td>fibre:16;quoi:1;dangers:1;combien:1;hightech:1...</td>\n",
       "    </tr>\n",
       "    <tr>\n",
       "      <td>1</td>\n",
       "      <td>2</td>\n",
       "      <td>35</td>\n",
       "      <td>M</td>\n",
       "      <td>restaurant:1;marrakech.shtml:1; expositions:1;...</td>\n",
       "    </tr>\n",
       "    <tr>\n",
       "      <td>2</td>\n",
       "      <td>3</td>\n",
       "      <td>45</td>\n",
       "      <td>F</td>\n",
       "      <td>payer:1;faq:1;taxe:1;habitation:1;macron:1;qui...</td>\n",
       "    </tr>\n",
       "    <tr>\n",
       "      <td>3</td>\n",
       "      <td>4</td>\n",
       "      <td>46</td>\n",
       "      <td>F</td>\n",
       "      <td>rigaud:3;laurent:3;photo:11;profile:8;photopro...</td>\n",
       "    </tr>\n",
       "    <tr>\n",
       "      <td>4</td>\n",
       "      <td>5</td>\n",
       "      <td>42</td>\n",
       "      <td>F</td>\n",
       "      <td>societe:1;disparition:1;proche:1;m%c3%a9lanie....</td>\n",
       "    </tr>\n",
       "  </tbody>\n",
       "</table>\n",
       "</div>"
      ],
      "text/plain": [
       "   ID  age sex                                       agg_keywords\n",
       "0   1   62   F  fibre:16;quoi:1;dangers:1;combien:1;hightech:1...\n",
       "1   2   35   M  restaurant:1;marrakech.shtml:1; expositions:1;...\n",
       "2   3   45   F  payer:1;faq:1;taxe:1;habitation:1;macron:1;qui...\n",
       "3   4   46   F  rigaud:3;laurent:3;photo:11;profile:8;photopro...\n",
       "4   5   42   F  societe:1;disparition:1;proche:1;m%c3%a9lanie...."
      ]
     },
     "execution_count": 35,
     "metadata": {},
     "output_type": "execute_result"
    }
   ],
   "source": [
    "# Smaller sample chosen from the 1.6 million rows\n",
    "# There is less cleaning so we use a bigger sample\n",
    "agesample=grp[:50000]\n",
    "agesample.head()"
   ]
  },
  {
   "cell_type": "markdown",
   "metadata": {},
   "source": [
    "## Function to Classify Age by Decade"
   ]
  },
  {
   "cell_type": "code",
   "execution_count": 36,
   "metadata": {},
   "outputs": [],
   "source": [
    "def label_age_group (row):\n",
    "    if row['age'] < 10 :\n",
    "        return 'Under 10'\n",
    "    if row['age'] >= 10 and row['age'] <20 :\n",
    "        return '10s'\n",
    "    if row['age'] >= 20 and row['age'] <30 :\n",
    "        return '20s'\n",
    "    if row['age'] >= 30 and row['age'] <40 :\n",
    "        return '30s'\n",
    "    if row['age'] >= 40 and row['age'] <50 :\n",
    "        return '40s'\n",
    "    if row['age'] >= 50 and row['age'] <60 :\n",
    "        return '50s'\n",
    "    if row['age'] >= 60 and row['age'] <70 :\n",
    "        return '60s'\n",
    "    if row['age'] >= 70 and row['age'] <80 :\n",
    "        return '70s'\n",
    "    if row['age'] >= 80 :\n",
    "        return 'Over 80'\n",
    "    return 'Other'"
   ]
  },
  {
   "cell_type": "code",
   "execution_count": 37,
   "metadata": {},
   "outputs": [
    {
     "name": "stderr",
     "output_type": "stream",
     "text": [
      "/opt/anaconda3/lib/python3.7/site-packages/ipykernel_launcher.py:1: SettingWithCopyWarning: \n",
      "A value is trying to be set on a copy of a slice from a DataFrame.\n",
      "Try using .loc[row_indexer,col_indexer] = value instead\n",
      "\n",
      "See the caveats in the documentation: http://pandas.pydata.org/pandas-docs/stable/user_guide/indexing.html#returning-a-view-versus-a-copy\n",
      "  \"\"\"Entry point for launching an IPython kernel.\n"
     ]
    }
   ],
   "source": [
    "agesample['age_group'] = agesample.apply(lambda row: label_age_group(row), axis=1)"
   ]
  },
  {
   "cell_type": "code",
   "execution_count": 38,
   "metadata": {},
   "outputs": [
    {
     "data": {
      "text/html": [
       "<div>\n",
       "<style scoped>\n",
       "    .dataframe tbody tr th:only-of-type {\n",
       "        vertical-align: middle;\n",
       "    }\n",
       "\n",
       "    .dataframe tbody tr th {\n",
       "        vertical-align: top;\n",
       "    }\n",
       "\n",
       "    .dataframe thead th {\n",
       "        text-align: right;\n",
       "    }\n",
       "</style>\n",
       "<table border=\"1\" class=\"dataframe\">\n",
       "  <thead>\n",
       "    <tr style=\"text-align: right;\">\n",
       "      <th></th>\n",
       "      <th>ID</th>\n",
       "      <th>age</th>\n",
       "      <th>sex</th>\n",
       "      <th>agg_keywords</th>\n",
       "      <th>age_group</th>\n",
       "    </tr>\n",
       "  </thead>\n",
       "  <tbody>\n",
       "    <tr>\n",
       "      <td>0</td>\n",
       "      <td>1</td>\n",
       "      <td>62</td>\n",
       "      <td>F</td>\n",
       "      <td>fibre:16;quoi:1;dangers:1;combien:1;hightech:1...</td>\n",
       "      <td>60s</td>\n",
       "    </tr>\n",
       "    <tr>\n",
       "      <td>1</td>\n",
       "      <td>2</td>\n",
       "      <td>35</td>\n",
       "      <td>M</td>\n",
       "      <td>restaurant:1;marrakech.shtml:1; expositions:1;...</td>\n",
       "      <td>30s</td>\n",
       "    </tr>\n",
       "    <tr>\n",
       "      <td>2</td>\n",
       "      <td>3</td>\n",
       "      <td>45</td>\n",
       "      <td>F</td>\n",
       "      <td>payer:1;faq:1;taxe:1;habitation:1;macron:1;qui...</td>\n",
       "      <td>40s</td>\n",
       "    </tr>\n",
       "    <tr>\n",
       "      <td>3</td>\n",
       "      <td>4</td>\n",
       "      <td>46</td>\n",
       "      <td>F</td>\n",
       "      <td>rigaud:3;laurent:3;photo:11;profile:8;photopro...</td>\n",
       "      <td>40s</td>\n",
       "    </tr>\n",
       "    <tr>\n",
       "      <td>4</td>\n",
       "      <td>5</td>\n",
       "      <td>42</td>\n",
       "      <td>F</td>\n",
       "      <td>societe:1;disparition:1;proche:1;m%c3%a9lanie....</td>\n",
       "      <td>40s</td>\n",
       "    </tr>\n",
       "  </tbody>\n",
       "</table>\n",
       "</div>"
      ],
      "text/plain": [
       "   ID  age sex                                       agg_keywords age_group\n",
       "0   1   62   F  fibre:16;quoi:1;dangers:1;combien:1;hightech:1...       60s\n",
       "1   2   35   M  restaurant:1;marrakech.shtml:1; expositions:1;...       30s\n",
       "2   3   45   F  payer:1;faq:1;taxe:1;habitation:1;macron:1;qui...       40s\n",
       "3   4   46   F  rigaud:3;laurent:3;photo:11;profile:8;photopro...       40s\n",
       "4   5   42   F  societe:1;disparition:1;proche:1;m%c3%a9lanie....       40s"
      ]
     },
     "execution_count": 38,
     "metadata": {},
     "output_type": "execute_result"
    }
   ],
   "source": [
    "agesample.head()"
   ]
  },
  {
   "cell_type": "markdown",
   "metadata": {},
   "source": [
    "## Model"
   ]
  },
  {
   "cell_type": "code",
   "execution_count": 39,
   "metadata": {},
   "outputs": [
    {
     "name": "stderr",
     "output_type": "stream",
     "text": [
      "/opt/anaconda3/lib/python3.7/site-packages/ipykernel_launcher.py:13: SettingWithCopyWarning: \n",
      "A value is trying to be set on a copy of a slice from a DataFrame.\n",
      "Try using .loc[row_indexer,col_indexer] = value instead\n",
      "\n",
      "See the caveats in the documentation: http://pandas.pydata.org/pandas-docs/stable/user_guide/indexing.html#returning-a-view-versus-a-copy\n",
      "  del sys.path[0]\n"
     ]
    },
    {
     "data": {
      "text/html": [
       "<div>\n",
       "<style scoped>\n",
       "    .dataframe tbody tr th:only-of-type {\n",
       "        vertical-align: middle;\n",
       "    }\n",
       "\n",
       "    .dataframe tbody tr th {\n",
       "        vertical-align: top;\n",
       "    }\n",
       "\n",
       "    .dataframe thead th {\n",
       "        text-align: right;\n",
       "    }\n",
       "</style>\n",
       "<table border=\"1\" class=\"dataframe\">\n",
       "  <thead>\n",
       "    <tr style=\"text-align: right;\">\n",
       "      <th></th>\n",
       "      <th>ID</th>\n",
       "      <th>age</th>\n",
       "      <th>sex</th>\n",
       "      <th>age_group</th>\n",
       "      <th>text_norm</th>\n",
       "    </tr>\n",
       "  </thead>\n",
       "  <tbody>\n",
       "    <tr>\n",
       "      <td>0</td>\n",
       "      <td>1</td>\n",
       "      <td>62</td>\n",
       "      <td>F</td>\n",
       "      <td>60s</td>\n",
       "      <td>fibre:16;quoi:1;dangers:1;combien:1;hightech:1...</td>\n",
       "    </tr>\n",
       "    <tr>\n",
       "      <td>1</td>\n",
       "      <td>2</td>\n",
       "      <td>35</td>\n",
       "      <td>M</td>\n",
       "      <td>30s</td>\n",
       "      <td>restaurant:1;marrakech.shtml:1 expositions:1;b...</td>\n",
       "    </tr>\n",
       "    <tr>\n",
       "      <td>2</td>\n",
       "      <td>3</td>\n",
       "      <td>45</td>\n",
       "      <td>F</td>\n",
       "      <td>40s</td>\n",
       "      <td>payer:1;faq:1;taxe:1;habitation:1;macron:1;qui...</td>\n",
       "    </tr>\n",
       "    <tr>\n",
       "      <td>3</td>\n",
       "      <td>4</td>\n",
       "      <td>46</td>\n",
       "      <td>F</td>\n",
       "      <td>40s</td>\n",
       "      <td>rigaud:3;laurent:3;photo:11;profile:8;photopro...</td>\n",
       "    </tr>\n",
       "    <tr>\n",
       "      <td>4</td>\n",
       "      <td>5</td>\n",
       "      <td>42</td>\n",
       "      <td>F</td>\n",
       "      <td>40s</td>\n",
       "      <td>societe:1;disparition:1;proche:1;m%c3%a9lanie....</td>\n",
       "    </tr>\n",
       "  </tbody>\n",
       "</table>\n",
       "</div>"
      ],
      "text/plain": [
       "   ID  age sex age_group                                          text_norm\n",
       "0   1   62   F       60s  fibre:16;quoi:1;dangers:1;combien:1;hightech:1...\n",
       "1   2   35   M       30s  restaurant:1;marrakech.shtml:1 expositions:1;b...\n",
       "2   3   45   F       40s  payer:1;faq:1;taxe:1;habitation:1;macron:1;qui...\n",
       "3   4   46   F       40s  rigaud:3;laurent:3;photo:11;profile:8;photopro...\n",
       "4   5   42   F       40s  societe:1;disparition:1;proche:1;m%c3%a9lanie...."
      ]
     },
     "execution_count": 39,
     "metadata": {},
     "output_type": "execute_result"
    }
   ],
   "source": [
    "#this part is for any text cleaning we want to do\n",
    "def normalize_text(s):\n",
    "    # just in case\n",
    "    s = str(s)\n",
    "    s = s.lower()\n",
    "    # remove punctuation that is not word-internal (e.g., hyphens, apostrophes)\n",
    "    s = re.sub('\\s\\W',' ',s)\n",
    "    s = re.sub('\\W\\s',' ',s)\n",
    "    # make sure we didn't introduce any double spaces\n",
    "    s = re.sub('\\s+',' ',s)\n",
    "    return s\n",
    "\n",
    "agesample['text_norm'] = [normalize_text(s) for s in agesample['agg_keywords']]\n",
    "agesample=agesample.drop(['agg_keywords'],axis=1)\n",
    "agesample.head()"
   ]
  },
  {
   "cell_type": "code",
   "execution_count": 40,
   "metadata": {},
   "outputs": [],
   "source": [
    "# pull the data into vectors\n",
    "vectorizer = CountVectorizer()\n",
    "x = vectorizer.fit_transform(agesample['text_norm'])\n",
    "\n",
    "encoder = LabelEncoder()\n",
    "y = encoder.fit_transform(agesample['age_group'])\n",
    "\n",
    "# split into train and test sets\n",
    "x_train, x_test, y_train, y_test = train_test_split(x, y, test_size=0.2)"
   ]
  },
  {
   "cell_type": "code",
   "execution_count": 41,
   "metadata": {},
   "outputs": [
    {
     "name": "stdout",
     "output_type": "stream",
     "text": [
      "0.2887\n"
     ]
    }
   ],
   "source": [
    "# Naive Bayes\n",
    "nb2 = MultinomialNB()\n",
    "nb2.fit(x_train, y_train)\n",
    "print(nb2.score(x_test, y_test))"
   ]
  },
  {
   "cell_type": "code",
   "execution_count": 42,
   "metadata": {},
   "outputs": [
    {
     "name": "stdout",
     "output_type": "stream",
     "text": [
      "0.3137\n"
     ]
    }
   ],
   "source": [
    "# MLPC Classifier\n",
    "clf = MLPClassifier(solver='lbfgs', alpha=1e-5,\n",
    "                    hidden_layer_sizes=(5, 2), random_state=1)\n",
    "clf.fit(x_train, y_train)\n",
    "print(clf.score(x_test, y_test))"
   ]
  }
 ],
 "metadata": {
  "kernelspec": {
   "display_name": "Python 2",
   "language": "python",
   "name": "python2"
  },
  "language_info": {
   "codemirror_mode": {
    "name": "ipython",
    "version": 2
   },
   "file_extension": ".py",
   "mimetype": "text/x-python",
   "name": "python",
   "nbconvert_exporter": "python",
   "pygments_lexer": "ipython2",
   "version": "2.7.16"
  }
 },
 "nbformat": 4,
 "nbformat_minor": 4
}
